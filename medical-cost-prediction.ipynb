{
 "cells": [
  {
   "cell_type": "code",
   "execution_count": 1,
   "id": "8369a52d",
   "metadata": {
    "_cell_guid": "b1076dfc-b9ad-4769-8c92-a6c4dae69d19",
    "_uuid": "8f2839f25d086af736a60e9eeb907d3b93b6e0e5",
    "execution": {
     "iopub.execute_input": "2022-08-05T05:51:03.379865Z",
     "iopub.status.busy": "2022-08-05T05:51:03.379191Z",
     "iopub.status.idle": "2022-08-05T05:51:03.401280Z",
     "shell.execute_reply": "2022-08-05T05:51:03.400500Z"
    },
    "papermill": {
     "duration": 0.037628,
     "end_time": "2022-08-05T05:51:03.403314",
     "exception": false,
     "start_time": "2022-08-05T05:51:03.365686",
     "status": "completed"
    },
    "tags": []
   },
   "outputs": [
    {
     "name": "stdout",
     "output_type": "stream",
     "text": [
      "/kaggle/input/insurance/insurance.csv\n"
     ]
    }
   ],
   "source": [
    "# This Python 3 environment comes with many helpful analytics libraries installed\n",
    "# It is defined by the kaggle/python Docker image: https://github.com/kaggle/docker-python\n",
    "# For example, here's several helpful packages to load\n",
    "\n",
    "import numpy as np # linear algebra\n",
    "import pandas as pd # data processing, CSV file I/O (e.g. pd.read_csv)\n",
    "\n",
    "# Input data files are available in the read-only \"../input/\" directory\n",
    "# For example, running this (by clicking run or pressing Shift+Enter) will list all files under the input directory\n",
    "\n",
    "import os\n",
    "for dirname, _, filenames in os.walk('/kaggle/input'):\n",
    "    for filename in filenames:\n",
    "        print(os.path.join(dirname, filename))\n",
    "\n",
    "# You can write up to 20GB to the current directory (/kaggle/working/) that gets preserved as output when you create a version using \"Save & Run All\" \n",
    "# You can also write temporary files to /kaggle/temp/, but they won't be saved outside of the current session"
   ]
  },
  {
   "cell_type": "markdown",
   "id": "b5fc5f19",
   "metadata": {
    "papermill": {
     "duration": 0.010543,
     "end_time": "2022-08-05T05:51:03.425080",
     "exception": false,
     "start_time": "2022-08-05T05:51:03.414537",
     "status": "completed"
    },
    "tags": []
   },
   "source": [
    "<a id=\"1\"></a> <br>\n",
    "# 1. Import Necessary Libraries"
   ]
  },
  {
   "cell_type": "code",
   "execution_count": 2,
   "id": "b3c304eb",
   "metadata": {
    "execution": {
     "iopub.execute_input": "2022-08-05T05:51:03.449307Z",
     "iopub.status.busy": "2022-08-05T05:51:03.448816Z",
     "iopub.status.idle": "2022-08-05T05:51:04.390416Z",
     "shell.execute_reply": "2022-08-05T05:51:04.389817Z"
    },
    "papermill": {
     "duration": 0.955636,
     "end_time": "2022-08-05T05:51:04.392491",
     "exception": false,
     "start_time": "2022-08-05T05:51:03.436855",
     "status": "completed"
    },
    "tags": []
   },
   "outputs": [],
   "source": [
    "import numpy as np\n",
    "import pandas as pd\n",
    "import matplotlib.pyplot as plt\n",
    "import seaborn as sns\n",
    "%matplotlib inline\n",
    "import warnings\n",
    "warnings.filterwarnings('ignore')"
   ]
  },
  {
   "cell_type": "markdown",
   "id": "0aa6a9e8",
   "metadata": {
    "papermill": {
     "duration": 0.010791,
     "end_time": "2022-08-05T05:51:04.414607",
     "exception": false,
     "start_time": "2022-08-05T05:51:04.403816",
     "status": "completed"
    },
    "tags": []
   },
   "source": [
    "<a id=\"1\"></a> <br>\n",
    "# 2. Import Dataset"
   ]
  },
  {
   "cell_type": "code",
   "execution_count": 3,
   "id": "75267f37",
   "metadata": {
    "execution": {
     "iopub.execute_input": "2022-08-05T05:51:04.437812Z",
     "iopub.status.busy": "2022-08-05T05:51:04.437182Z",
     "iopub.status.idle": "2022-08-05T05:51:04.455071Z",
     "shell.execute_reply": "2022-08-05T05:51:04.454146Z"
    },
    "papermill": {
     "duration": 0.031685,
     "end_time": "2022-08-05T05:51:04.456940",
     "exception": false,
     "start_time": "2022-08-05T05:51:04.425255",
     "status": "completed"
    },
    "tags": []
   },
   "outputs": [],
   "source": [
    "data = pd.read_csv('/kaggle/input/insurance/insurance.csv')"
   ]
  },
  {
   "cell_type": "markdown",
   "id": "3abfd19e",
   "metadata": {
    "papermill": {
     "duration": 0.010369,
     "end_time": "2022-08-05T05:51:04.478271",
     "exception": false,
     "start_time": "2022-08-05T05:51:04.467902",
     "status": "completed"
    },
    "tags": []
   },
   "source": [
    "<a id=\"1\"></a> <br>\n",
    "# 3. Exploratory Data Analysis"
   ]
  },
  {
   "cell_type": "code",
   "execution_count": 4,
   "id": "02c8585e",
   "metadata": {
    "execution": {
     "iopub.execute_input": "2022-08-05T05:51:04.502532Z",
     "iopub.status.busy": "2022-08-05T05:51:04.501829Z",
     "iopub.status.idle": "2022-08-05T05:51:04.522308Z",
     "shell.execute_reply": "2022-08-05T05:51:04.521760Z"
    },
    "papermill": {
     "duration": 0.03492,
     "end_time": "2022-08-05T05:51:04.524086",
     "exception": false,
     "start_time": "2022-08-05T05:51:04.489166",
     "status": "completed"
    },
    "tags": []
   },
   "outputs": [
    {
     "data": {
      "text/html": [
       "<div>\n",
       "<style scoped>\n",
       "    .dataframe tbody tr th:only-of-type {\n",
       "        vertical-align: middle;\n",
       "    }\n",
       "\n",
       "    .dataframe tbody tr th {\n",
       "        vertical-align: top;\n",
       "    }\n",
       "\n",
       "    .dataframe thead th {\n",
       "        text-align: right;\n",
       "    }\n",
       "</style>\n",
       "<table border=\"1\" class=\"dataframe\">\n",
       "  <thead>\n",
       "    <tr style=\"text-align: right;\">\n",
       "      <th></th>\n",
       "      <th>age</th>\n",
       "      <th>sex</th>\n",
       "      <th>bmi</th>\n",
       "      <th>children</th>\n",
       "      <th>smoker</th>\n",
       "      <th>region</th>\n",
       "      <th>charges</th>\n",
       "    </tr>\n",
       "  </thead>\n",
       "  <tbody>\n",
       "    <tr>\n",
       "      <th>271</th>\n",
       "      <td>50</td>\n",
       "      <td>male</td>\n",
       "      <td>34.200</td>\n",
       "      <td>2</td>\n",
       "      <td>yes</td>\n",
       "      <td>southwest</td>\n",
       "      <td>42856.83800</td>\n",
       "    </tr>\n",
       "    <tr>\n",
       "      <th>325</th>\n",
       "      <td>40</td>\n",
       "      <td>male</td>\n",
       "      <td>34.105</td>\n",
       "      <td>1</td>\n",
       "      <td>no</td>\n",
       "      <td>northeast</td>\n",
       "      <td>6600.20595</td>\n",
       "    </tr>\n",
       "    <tr>\n",
       "      <th>1214</th>\n",
       "      <td>27</td>\n",
       "      <td>female</td>\n",
       "      <td>31.255</td>\n",
       "      <td>1</td>\n",
       "      <td>no</td>\n",
       "      <td>northwest</td>\n",
       "      <td>3956.07145</td>\n",
       "    </tr>\n",
       "    <tr>\n",
       "      <th>853</th>\n",
       "      <td>53</td>\n",
       "      <td>female</td>\n",
       "      <td>23.750</td>\n",
       "      <td>2</td>\n",
       "      <td>no</td>\n",
       "      <td>northeast</td>\n",
       "      <td>11729.67950</td>\n",
       "    </tr>\n",
       "    <tr>\n",
       "      <th>1335</th>\n",
       "      <td>18</td>\n",
       "      <td>female</td>\n",
       "      <td>36.850</td>\n",
       "      <td>0</td>\n",
       "      <td>no</td>\n",
       "      <td>southeast</td>\n",
       "      <td>1629.83350</td>\n",
       "    </tr>\n",
       "    <tr>\n",
       "      <th>929</th>\n",
       "      <td>41</td>\n",
       "      <td>male</td>\n",
       "      <td>34.210</td>\n",
       "      <td>1</td>\n",
       "      <td>no</td>\n",
       "      <td>southeast</td>\n",
       "      <td>6289.75490</td>\n",
       "    </tr>\n",
       "    <tr>\n",
       "      <th>1321</th>\n",
       "      <td>62</td>\n",
       "      <td>male</td>\n",
       "      <td>26.695</td>\n",
       "      <td>0</td>\n",
       "      <td>yes</td>\n",
       "      <td>northeast</td>\n",
       "      <td>28101.33305</td>\n",
       "    </tr>\n",
       "    <tr>\n",
       "      <th>343</th>\n",
       "      <td>63</td>\n",
       "      <td>male</td>\n",
       "      <td>36.765</td>\n",
       "      <td>0</td>\n",
       "      <td>no</td>\n",
       "      <td>northeast</td>\n",
       "      <td>13981.85035</td>\n",
       "    </tr>\n",
       "    <tr>\n",
       "      <th>1209</th>\n",
       "      <td>59</td>\n",
       "      <td>male</td>\n",
       "      <td>37.100</td>\n",
       "      <td>1</td>\n",
       "      <td>no</td>\n",
       "      <td>southwest</td>\n",
       "      <td>12347.17200</td>\n",
       "    </tr>\n",
       "    <tr>\n",
       "      <th>168</th>\n",
       "      <td>19</td>\n",
       "      <td>female</td>\n",
       "      <td>31.825</td>\n",
       "      <td>1</td>\n",
       "      <td>no</td>\n",
       "      <td>northwest</td>\n",
       "      <td>2719.27975</td>\n",
       "    </tr>\n",
       "  </tbody>\n",
       "</table>\n",
       "</div>"
      ],
      "text/plain": [
       "      age     sex     bmi  children smoker     region      charges\n",
       "271    50    male  34.200         2    yes  southwest  42856.83800\n",
       "325    40    male  34.105         1     no  northeast   6600.20595\n",
       "1214   27  female  31.255         1     no  northwest   3956.07145\n",
       "853    53  female  23.750         2     no  northeast  11729.67950\n",
       "1335   18  female  36.850         0     no  southeast   1629.83350\n",
       "929    41    male  34.210         1     no  southeast   6289.75490\n",
       "1321   62    male  26.695         0    yes  northeast  28101.33305\n",
       "343    63    male  36.765         0     no  northeast  13981.85035\n",
       "1209   59    male  37.100         1     no  southwest  12347.17200\n",
       "168    19  female  31.825         1     no  northwest   2719.27975"
      ]
     },
     "execution_count": 4,
     "metadata": {},
     "output_type": "execute_result"
    }
   ],
   "source": [
    "data.sample(10)"
   ]
  },
  {
   "cell_type": "code",
   "execution_count": 5,
   "id": "b9afa142",
   "metadata": {
    "execution": {
     "iopub.execute_input": "2022-08-05T05:51:04.548163Z",
     "iopub.status.busy": "2022-08-05T05:51:04.547713Z",
     "iopub.status.idle": "2022-08-05T05:51:04.554467Z",
     "shell.execute_reply": "2022-08-05T05:51:04.553843Z"
    },
    "papermill": {
     "duration": 0.020563,
     "end_time": "2022-08-05T05:51:04.555995",
     "exception": false,
     "start_time": "2022-08-05T05:51:04.535432",
     "status": "completed"
    },
    "tags": []
   },
   "outputs": [
    {
     "data": {
      "text/plain": [
       "age         0\n",
       "sex         0\n",
       "bmi         0\n",
       "children    0\n",
       "smoker      0\n",
       "region      0\n",
       "charges     0\n",
       "dtype: int64"
      ]
     },
     "execution_count": 5,
     "metadata": {},
     "output_type": "execute_result"
    }
   ],
   "source": [
    "# checking missing values:\n",
    "data.isnull().sum()"
   ]
  },
  {
   "cell_type": "markdown",
   "id": "d7eeeeb6",
   "metadata": {
    "papermill": {
     "duration": 0.011043,
     "end_time": "2022-08-05T05:51:04.578434",
     "exception": false,
     "start_time": "2022-08-05T05:51:04.567391",
     "status": "completed"
    },
    "tags": []
   },
   "source": [
    "There is no missing value in dataset."
   ]
  },
  {
   "cell_type": "code",
   "execution_count": 6,
   "id": "5406a899",
   "metadata": {
    "execution": {
     "iopub.execute_input": "2022-08-05T05:51:04.602300Z",
     "iopub.status.busy": "2022-08-05T05:51:04.601831Z",
     "iopub.status.idle": "2022-08-05T05:51:04.620561Z",
     "shell.execute_reply": "2022-08-05T05:51:04.619761Z"
    },
    "papermill": {
     "duration": 0.032694,
     "end_time": "2022-08-05T05:51:04.622178",
     "exception": false,
     "start_time": "2022-08-05T05:51:04.589484",
     "status": "completed"
    },
    "tags": []
   },
   "outputs": [
    {
     "data": {
      "text/html": [
       "<div>\n",
       "<style scoped>\n",
       "    .dataframe tbody tr th:only-of-type {\n",
       "        vertical-align: middle;\n",
       "    }\n",
       "\n",
       "    .dataframe tbody tr th {\n",
       "        vertical-align: top;\n",
       "    }\n",
       "\n",
       "    .dataframe thead th {\n",
       "        text-align: right;\n",
       "    }\n",
       "</style>\n",
       "<table border=\"1\" class=\"dataframe\">\n",
       "  <thead>\n",
       "    <tr style=\"text-align: right;\">\n",
       "      <th></th>\n",
       "      <th>col</th>\n",
       "      <th>nunique</th>\n",
       "      <th>type</th>\n",
       "    </tr>\n",
       "  </thead>\n",
       "  <tbody>\n",
       "    <tr>\n",
       "      <th>0</th>\n",
       "      <td>age</td>\n",
       "      <td>47</td>\n",
       "      <td>int64</td>\n",
       "    </tr>\n",
       "    <tr>\n",
       "      <th>1</th>\n",
       "      <td>sex</td>\n",
       "      <td>2</td>\n",
       "      <td>object</td>\n",
       "    </tr>\n",
       "    <tr>\n",
       "      <th>2</th>\n",
       "      <td>bmi</td>\n",
       "      <td>548</td>\n",
       "      <td>float64</td>\n",
       "    </tr>\n",
       "    <tr>\n",
       "      <th>3</th>\n",
       "      <td>children</td>\n",
       "      <td>6</td>\n",
       "      <td>int64</td>\n",
       "    </tr>\n",
       "    <tr>\n",
       "      <th>4</th>\n",
       "      <td>smoker</td>\n",
       "      <td>2</td>\n",
       "      <td>object</td>\n",
       "    </tr>\n",
       "    <tr>\n",
       "      <th>5</th>\n",
       "      <td>region</td>\n",
       "      <td>4</td>\n",
       "      <td>object</td>\n",
       "    </tr>\n",
       "    <tr>\n",
       "      <th>6</th>\n",
       "      <td>charges</td>\n",
       "      <td>1337</td>\n",
       "      <td>float64</td>\n",
       "    </tr>\n",
       "  </tbody>\n",
       "</table>\n",
       "</div>"
      ],
      "text/plain": [
       "        col  nunique     type\n",
       "0       age       47    int64\n",
       "1       sex        2   object\n",
       "2       bmi      548  float64\n",
       "3  children        6    int64\n",
       "4    smoker        2   object\n",
       "5    region        4   object\n",
       "6   charges     1337  float64"
      ]
     },
     "execution_count": 6,
     "metadata": {},
     "output_type": "execute_result"
    }
   ],
   "source": [
    "# checking nunique and type per columns:\n",
    "df_nunique = pd.DataFrame([[col , data[col].nunique(),data[col].dtypes] for col in data.columns],columns=['col','nunique','type'])\n",
    "df_nunique"
   ]
  },
  {
   "cell_type": "code",
   "execution_count": 7,
   "id": "c2d0580b",
   "metadata": {
    "execution": {
     "iopub.execute_input": "2022-08-05T05:51:04.646219Z",
     "iopub.status.busy": "2022-08-05T05:51:04.645964Z",
     "iopub.status.idle": "2022-08-05T05:51:04.768775Z",
     "shell.execute_reply": "2022-08-05T05:51:04.768079Z"
    },
    "papermill": {
     "duration": 0.137024,
     "end_time": "2022-08-05T05:51:04.770685",
     "exception": false,
     "start_time": "2022-08-05T05:51:04.633661",
     "status": "completed"
    },
    "tags": []
   },
   "outputs": [
    {
     "data": {
      "text/plain": [
       "<AxesSubplot:xlabel='sex', ylabel='count'>"
      ]
     },
     "execution_count": 7,
     "metadata": {},
     "output_type": "execute_result"
    },
    {
     "data": {
      "image/png": "[encoded data removed]",
      "text/plain": [
       "<Figure size 576x288 with 1 Axes>"
      ]
     },
     "metadata": {
      "needs_background": "light"
     },
     "output_type": "display_data"
    }
   ],
   "source": [
    "plt.figure(figsize=(8,4))\n",
    "sns.countplot(data=data, x = 'sex' )"
   ]
  },
  {
   "cell_type": "markdown",
   "id": "3375bf3e",
   "metadata": {
    "papermill": {
     "duration": 0.015225,
     "end_time": "2022-08-05T05:51:04.801778",
     "exception": false,
     "start_time": "2022-08-05T05:51:04.786553",
     "status": "completed"
    },
    "tags": []
   },
   "source": [
    "The male gender is having a slightly more population,but male and female are almost equal population."
   ]
  },
  {
   "cell_type": "code",
   "execution_count": 8,
   "id": "befe5be0",
   "metadata": {
    "execution": {
     "iopub.execute_input": "2022-08-05T05:51:04.826358Z",
     "iopub.status.busy": "2022-08-05T05:51:04.825746Z",
     "iopub.status.idle": "2022-08-05T05:51:05.168266Z",
     "shell.execute_reply": "2022-08-05T05:51:05.167471Z"
    },
    "papermill": {
     "duration": 0.356597,
     "end_time": "2022-08-05T05:51:05.169967",
     "exception": false,
     "start_time": "2022-08-05T05:51:04.813370",
     "status": "completed"
    },
    "tags": []
   },
   "outputs": [
    {
     "data": {
      "text/plain": [
       "<AxesSubplot:xlabel='age', ylabel='count'>"
      ]
     },
     "execution_count": 8,
     "metadata": {},
     "output_type": "execute_result"
    },
    {
     "data": {
      "image/png": "[encoded data removed]",
      "text/plain": [
       "<Figure size 576x288 with 1 Axes>"
      ]
     },
     "metadata": {
      "needs_background": "light"
     },
     "output_type": "display_data"
    }
   ],
   "source": [
    "plt.figure(figsize=(8,4))\n",
    "sns.countplot(data=data, x = 'age')"
   ]
  },
  {
   "cell_type": "markdown",
   "id": "371fcd79",
   "metadata": {
    "papermill": {
     "duration": 0.011812,
     "end_time": "2022-08-05T05:51:05.193818",
     "exception": false,
     "start_time": "2022-08-05T05:51:05.182006",
     "status": "completed"
    },
    "tags": []
   },
   "source": [
    "age column its shows there is more populatiion people from the age of 18,19 compared to other age people."
   ]
  },
  {
   "cell_type": "code",
   "execution_count": 9,
   "id": "969ae17b",
   "metadata": {
    "execution": {
     "iopub.execute_input": "2022-08-05T05:51:05.220726Z",
     "iopub.status.busy": "2022-08-05T05:51:05.220271Z",
     "iopub.status.idle": "2022-08-05T05:51:05.404726Z",
     "shell.execute_reply": "2022-08-05T05:51:05.403825Z"
    },
    "papermill": {
     "duration": 0.200325,
     "end_time": "2022-08-05T05:51:05.406281",
     "exception": false,
     "start_time": "2022-08-05T05:51:05.205956",
     "status": "completed"
    },
    "tags": []
   },
   "outputs": [
    {
     "data": {
      "image/png": "[encoded data removed]",
      "text/plain": [
       "<Figure size 432x288 with 1 Axes>"
      ]
     },
     "metadata": {
      "needs_background": "light"
     },
     "output_type": "display_data"
    }
   ],
   "source": [
    "sns.distplot(data['bmi'])\n",
    "plt.show()"
   ]
  },
  {
   "cell_type": "code",
   "execution_count": 10,
   "id": "04d8f27a",
   "metadata": {
    "execution": {
     "iopub.execute_input": "2022-08-05T05:51:05.433094Z",
     "iopub.status.busy": "2022-08-05T05:51:05.431928Z",
     "iopub.status.idle": "2022-08-05T05:51:05.545295Z",
     "shell.execute_reply": "2022-08-05T05:51:05.544505Z"
    },
    "papermill": {
     "duration": 0.129791,
     "end_time": "2022-08-05T05:51:05.548368",
     "exception": false,
     "start_time": "2022-08-05T05:51:05.418577",
     "status": "completed"
    },
    "tags": []
   },
   "outputs": [
    {
     "data": {
      "text/plain": [
       "<AxesSubplot:xlabel='children', ylabel='count'>"
      ]
     },
     "execution_count": 10,
     "metadata": {},
     "output_type": "execute_result"
    },
    {
     "data": {
      "image/png": "[encoded data removed]",
      "text/plain": [
       "<Figure size 576x288 with 1 Axes>"
      ]
     },
     "metadata": {
      "needs_background": "light"
     },
     "output_type": "display_data"
    }
   ],
   "source": [
    "plt.figure(figsize=(8,4))\n",
    "sns.countplot(data=data, x = 'children')"
   ]
  },
  {
   "cell_type": "code",
   "execution_count": 11,
   "id": "5cb34343",
   "metadata": {
    "execution": {
     "iopub.execute_input": "2022-08-05T05:51:05.584587Z",
     "iopub.status.busy": "2022-08-05T05:51:05.584213Z",
     "iopub.status.idle": "2022-08-05T05:51:05.680596Z",
     "shell.execute_reply": "2022-08-05T05:51:05.679881Z"
    },
    "papermill": {
     "duration": 0.114951,
     "end_time": "2022-08-05T05:51:05.682478",
     "exception": false,
     "start_time": "2022-08-05T05:51:05.567527",
     "status": "completed"
    },
    "tags": []
   },
   "outputs": [
    {
     "data": {
      "text/plain": [
       "<AxesSubplot:xlabel='smoker', ylabel='count'>"
      ]
     },
     "execution_count": 11,
     "metadata": {},
     "output_type": "execute_result"
    },
    {
     "data": {
      "image/png": "[encoded data removed]",
      "text/plain": [
       "<Figure size 576x288 with 1 Axes>"
      ]
     },
     "metadata": {
      "needs_background": "light"
     },
     "output_type": "display_data"
    }
   ],
   "source": [
    "plt.figure(figsize=(8,4))\n",
    "sns.countplot(data=data, x = 'smoker')"
   ]
  },
  {
   "cell_type": "markdown",
   "id": "69d5cbef",
   "metadata": {
    "papermill": {
     "duration": 0.016934,
     "end_time": "2022-08-05T05:51:05.716851",
     "exception": false,
     "start_time": "2022-08-05T05:51:05.699917",
     "status": "completed"
    },
    "tags": []
   },
   "source": [
    "There is very less number of smokers in this dataset."
   ]
  },
  {
   "cell_type": "code",
   "execution_count": 12,
   "id": "ce8810d8",
   "metadata": {
    "execution": {
     "iopub.execute_input": "2022-08-05T05:51:05.746942Z",
     "iopub.status.busy": "2022-08-05T05:51:05.746469Z",
     "iopub.status.idle": "2022-08-05T05:51:05.975934Z",
     "shell.execute_reply": "2022-08-05T05:51:05.975112Z"
    },
    "papermill": {
     "duration": 0.245648,
     "end_time": "2022-08-05T05:51:05.977825",
     "exception": false,
     "start_time": "2022-08-05T05:51:05.732177",
     "status": "completed"
    },
    "tags": []
   },
   "outputs": [
    {
     "data": {
      "image/png": "[encoded data removed]",
      "text/plain": [
       "<Figure size 648x684 with 1 Axes>"
      ]
     },
     "metadata": {},
     "output_type": "display_data"
    }
   ],
   "source": [
    "#plotting pie chart of the region feature\n",
    "plt.figure(figsize=(9,9.5))\n",
    "data['region'].value_counts().plot(kind='pie',explode=[0.2,0,0,0],legend=True,autopct='%.2f%%',shadow=True)\n",
    "plt.title('Percentage distribution of Region')\n",
    "plt.show()"
   ]
  },
  {
   "cell_type": "markdown",
   "id": "6ad4ae19",
   "metadata": {
    "papermill": {
     "duration": 0.016489,
     "end_time": "2022-08-05T05:51:06.012916",
     "exception": false,
     "start_time": "2022-08-05T05:51:05.996427",
     "status": "completed"
    },
    "tags": []
   },
   "source": [
    "Making our target variable normally distributed often will lead to better results.\n",
    "If our target is not normally distributed, we can apply a transformation to it and then fit our regression to predict the transformed values.\n",
    "How can we tell if our target is normally distributed? There are two ways:\n",
    "* Visually\n",
    "* Using a statistical test\n",
    "\n",
    "This test outputs a \"p-value\". The higher this p-value is the closer the distribution is to normal.\n",
    "some common transformations to try and get y to be normally distributed:\n",
    "* Log\n",
    "* Square root\n",
    "* Box cox\n"
   ]
  },
  {
   "cell_type": "code",
   "execution_count": 13,
   "id": "29d0ec8c",
   "metadata": {
    "execution": {
     "iopub.execute_input": "2022-08-05T05:51:06.041620Z",
     "iopub.status.busy": "2022-08-05T05:51:06.040863Z",
     "iopub.status.idle": "2022-08-05T05:51:06.227574Z",
     "shell.execute_reply": "2022-08-05T05:51:06.226965Z"
    },
    "papermill": {
     "duration": 0.202893,
     "end_time": "2022-08-05T05:51:06.229231",
     "exception": false,
     "start_time": "2022-08-05T05:51:06.026338",
     "status": "completed"
    },
    "tags": []
   },
   "outputs": [
    {
     "data": {
      "text/plain": [
       "<AxesSubplot:xlabel='charges', ylabel='Count'>"
      ]
     },
     "execution_count": 13,
     "metadata": {},
     "output_type": "execute_result"
    },
    {
     "data": {
      "image/png": "[encoded data removed]",
      "text/plain": [
       "<Figure size 576x288 with 1 Axes>"
      ]
     },
     "metadata": {
      "needs_background": "light"
     },
     "output_type": "display_data"
    }
   ],
   "source": [
    "plt.figure(figsize=(8,4))\n",
    "sns.histplot(data=data, x = 'charges' )"
   ]
  },
  {
   "cell_type": "markdown",
   "id": "9e293f4d",
   "metadata": {
    "papermill": {
     "duration": 0.013328,
     "end_time": "2022-08-05T05:51:06.255978",
     "exception": false,
     "start_time": "2022-08-05T05:51:06.242650",
     "status": "completed"
    },
    "tags": []
   },
   "source": [
    "The Target does not appear to be normally distributed."
   ]
  },
  {
   "cell_type": "code",
   "execution_count": 14,
   "id": "803c02bc",
   "metadata": {
    "execution": {
     "iopub.execute_input": "2022-08-05T05:51:06.285134Z",
     "iopub.status.busy": "2022-08-05T05:51:06.284596Z",
     "iopub.status.idle": "2022-08-05T05:51:06.292897Z",
     "shell.execute_reply": "2022-08-05T05:51:06.291723Z"
    },
    "papermill": {
     "duration": 0.024776,
     "end_time": "2022-08-05T05:51:06.294561",
     "exception": false,
     "start_time": "2022-08-05T05:51:06.269785",
     "status": "completed"
    },
    "tags": []
   },
   "outputs": [
    {
     "name": "stdout",
     "output_type": "stream",
     "text": [
      "NormaltestResult(statistic=336.8851220567733, pvalue=7.019807901276197e-74)\n"
     ]
    }
   ],
   "source": [
    "# Calculate Normaltest on target before apply log Transformation:\n",
    "from scipy.stats.mstats import normaltest\n",
    "print(normaltest(data.charges))"
   ]
  },
  {
   "cell_type": "markdown",
   "id": "a9200c01",
   "metadata": {
    "papermill": {
     "duration": 0.013415,
     "end_time": "2022-08-05T05:51:06.321719",
     "exception": false,
     "start_time": "2022-08-05T05:51:06.308304",
     "status": "completed"
    },
    "tags": []
   },
   "source": [
    "As we can see pvalue is very low."
   ]
  },
  {
   "cell_type": "markdown",
   "id": "b44d21f1",
   "metadata": {
    "papermill": {
     "duration": 0.013119,
     "end_time": "2022-08-05T05:51:06.348334",
     "exception": false,
     "start_time": "2022-08-05T05:51:06.335215",
     "status": "completed"
    },
    "tags": []
   },
   "source": [
    "**Apply log transformation:**"
   ]
  },
  {
   "cell_type": "code",
   "execution_count": 15,
   "id": "e0fc0e25",
   "metadata": {
    "execution": {
     "iopub.execute_input": "2022-08-05T05:51:06.376290Z",
     "iopub.status.busy": "2022-08-05T05:51:06.375994Z",
     "iopub.status.idle": "2022-08-05T05:51:06.385848Z",
     "shell.execute_reply": "2022-08-05T05:51:06.384801Z"
    },
    "papermill": {
     "duration": 0.026028,
     "end_time": "2022-08-05T05:51:06.387503",
     "exception": false,
     "start_time": "2022-08-05T05:51:06.361475",
     "status": "completed"
    },
    "tags": []
   },
   "outputs": [
    {
     "name": "stdout",
     "output_type": "stream",
     "text": [
      "NormaltestResult(statistic=52.75253430687823, pvalue=3.50697542068533e-12)\n"
     ]
    }
   ],
   "source": [
    "data.charges = np.log1p(data.charges)\n",
    "print(normaltest(data.charges))"
   ]
  },
  {
   "cell_type": "markdown",
   "id": "25b5a2e4",
   "metadata": {
    "papermill": {
     "duration": 0.013697,
     "end_time": "2022-08-05T05:51:06.414831",
     "exception": false,
     "start_time": "2022-08-05T05:51:06.401134",
     "status": "completed"
    },
    "tags": []
   },
   "source": [
    "pvalue significantly increased."
   ]
  },
  {
   "cell_type": "code",
   "execution_count": 16,
   "id": "c0f12ed6",
   "metadata": {
    "execution": {
     "iopub.execute_input": "2022-08-05T05:51:06.444648Z",
     "iopub.status.busy": "2022-08-05T05:51:06.443109Z",
     "iopub.status.idle": "2022-08-05T05:51:06.618436Z",
     "shell.execute_reply": "2022-08-05T05:51:06.617569Z"
    },
    "papermill": {
     "duration": 0.191977,
     "end_time": "2022-08-05T05:51:06.620417",
     "exception": false,
     "start_time": "2022-08-05T05:51:06.428440",
     "status": "completed"
    },
    "tags": []
   },
   "outputs": [
    {
     "data": {
      "text/plain": [
       "<AxesSubplot:xlabel='charges', ylabel='Count'>"
      ]
     },
     "execution_count": 16,
     "metadata": {},
     "output_type": "execute_result"
    },
    {
     "data": {
      "image/png": "[encoded data removed]",
      "text/plain": [
       "<Figure size 576x288 with 1 Axes>"
      ]
     },
     "metadata": {
      "needs_background": "light"
     },
     "output_type": "display_data"
    }
   ],
   "source": [
    "plt.figure(figsize=(8,4))\n",
    "sns.histplot(data=data, x = 'charges' )"
   ]
  },
  {
   "cell_type": "markdown",
   "id": "390ba0e0",
   "metadata": {
    "papermill": {
     "duration": 0.013483,
     "end_time": "2022-08-05T05:51:06.648318",
     "exception": false,
     "start_time": "2022-08-05T05:51:06.634835",
     "status": "completed"
    },
    "tags": []
   },
   "source": [
    "<a id=\"1\"></a> <br>\n",
    "# 4. Preprocessing"
   ]
  },
  {
   "cell_type": "code",
   "execution_count": 17,
   "id": "e4e60eac",
   "metadata": {
    "execution": {
     "iopub.execute_input": "2022-08-05T05:51:06.677960Z",
     "iopub.status.busy": "2022-08-05T05:51:06.677196Z",
     "iopub.status.idle": "2022-08-05T05:51:06.681469Z",
     "shell.execute_reply": "2022-08-05T05:51:06.680891Z"
    },
    "papermill": {
     "duration": 0.020535,
     "end_time": "2022-08-05T05:51:06.683040",
     "exception": false,
     "start_time": "2022-08-05T05:51:06.662505",
     "status": "completed"
    },
    "tags": []
   },
   "outputs": [],
   "source": [
    "# categorical Features:\n",
    "cat_features = [col for col in data.columns if data[col].dtypes=='object']"
   ]
  },
  {
   "cell_type": "markdown",
   "id": "616f2a75",
   "metadata": {
    "papermill": {
     "duration": 0.013667,
     "end_time": "2022-08-05T05:51:06.710634",
     "exception": false,
     "start_time": "2022-08-05T05:51:06.696967",
     "status": "completed"
    },
    "tags": []
   },
   "source": [
    "These categorical features are Nominal, so i used get_dummies function to encode these features:"
   ]
  },
  {
   "cell_type": "code",
   "execution_count": 18,
   "id": "02b15527",
   "metadata": {
    "execution": {
     "iopub.execute_input": "2022-08-05T05:51:06.740137Z",
     "iopub.status.busy": "2022-08-05T05:51:06.739308Z",
     "iopub.status.idle": "2022-08-05T05:51:06.755415Z",
     "shell.execute_reply": "2022-08-05T05:51:06.754471Z"
    },
    "papermill": {
     "duration": 0.032758,
     "end_time": "2022-08-05T05:51:06.757359",
     "exception": false,
     "start_time": "2022-08-05T05:51:06.724601",
     "status": "completed"
    },
    "tags": []
   },
   "outputs": [],
   "source": [
    "# apply get_dummies:\n",
    "for col in cat_features:\n",
    "    dummy = pd.get_dummies(data[col], prefix=col)\n",
    "    data = pd.merge(left=data, right=dummy, left_index=True, right_index=True)\n",
    "    data.drop(col,axis=1,inplace=True)\n",
    "columns = []\n",
    "\n",
    "# reindex columns:\n",
    "for col in data.columns:\n",
    "    if col != 'charges':\n",
    "        columns.append(col)\n",
    "columns.append('charges')\n",
    "data = data.reindex(columns=columns)"
   ]
  },
  {
   "cell_type": "code",
   "execution_count": 19,
   "id": "3221a90a",
   "metadata": {
    "execution": {
     "iopub.execute_input": "2022-08-05T05:51:06.786188Z",
     "iopub.status.busy": "2022-08-05T05:51:06.785743Z",
     "iopub.status.idle": "2022-08-05T05:51:06.963073Z",
     "shell.execute_reply": "2022-08-05T05:51:06.962352Z"
    },
    "papermill": {
     "duration": 0.193916,
     "end_time": "2022-08-05T05:51:06.965093",
     "exception": false,
     "start_time": "2022-08-05T05:51:06.771177",
     "status": "completed"
    },
    "tags": []
   },
   "outputs": [],
   "source": [
    "from sklearn.model_selection import train_test_split\n",
    "from sklearn.preprocessing import MinMaxScaler"
   ]
  },
  {
   "cell_type": "code",
   "execution_count": 20,
   "id": "a8b9f637",
   "metadata": {
    "execution": {
     "iopub.execute_input": "2022-08-05T05:51:06.994260Z",
     "iopub.status.busy": "2022-08-05T05:51:06.993964Z",
     "iopub.status.idle": "2022-08-05T05:51:06.999193Z",
     "shell.execute_reply": "2022-08-05T05:51:06.998318Z"
    },
    "papermill": {
     "duration": 0.021904,
     "end_time": "2022-08-05T05:51:07.000874",
     "exception": false,
     "start_time": "2022-08-05T05:51:06.978970",
     "status": "completed"
    },
    "tags": []
   },
   "outputs": [],
   "source": [
    "X = data.drop('charges',axis=1)\n",
    "y = data.charges"
   ]
  },
  {
   "cell_type": "code",
   "execution_count": 21,
   "id": "96a0129d",
   "metadata": {
    "execution": {
     "iopub.execute_input": "2022-08-05T05:51:07.029674Z",
     "iopub.status.busy": "2022-08-05T05:51:07.029224Z",
     "iopub.status.idle": "2022-08-05T05:51:07.034540Z",
     "shell.execute_reply": "2022-08-05T05:51:07.033941Z"
    },
    "papermill": {
     "duration": 0.021246,
     "end_time": "2022-08-05T05:51:07.036020",
     "exception": false,
     "start_time": "2022-08-05T05:51:07.014774",
     "status": "completed"
    },
    "tags": []
   },
   "outputs": [],
   "source": [
    "X_train,X_test,y_train,y_test = train_test_split(X,y,test_size=0.25,random_state=42)"
   ]
  },
  {
   "cell_type": "markdown",
   "id": "c8996fde",
   "metadata": {
    "papermill": {
     "duration": 0.013492,
     "end_time": "2022-08-05T05:51:07.063741",
     "exception": false,
     "start_time": "2022-08-05T05:51:07.050249",
     "status": "completed"
    },
    "tags": []
   },
   "source": [
    "**Scaling:**"
   ]
  },
  {
   "cell_type": "code",
   "execution_count": 22,
   "id": "a43f32bb",
   "metadata": {
    "execution": {
     "iopub.execute_input": "2022-08-05T05:51:07.093114Z",
     "iopub.status.busy": "2022-08-05T05:51:07.092475Z",
     "iopub.status.idle": "2022-08-05T05:51:07.100430Z",
     "shell.execute_reply": "2022-08-05T05:51:07.099858Z"
    },
    "papermill": {
     "duration": 0.024657,
     "end_time": "2022-08-05T05:51:07.101993",
     "exception": false,
     "start_time": "2022-08-05T05:51:07.077336",
     "status": "completed"
    },
    "tags": []
   },
   "outputs": [],
   "source": [
    "minmax = MinMaxScaler()\n",
    "X_train_scaled = minmax.fit_transform(X_train)\n",
    "X_test_scaled = minmax.transform(X_test)"
   ]
  },
  {
   "cell_type": "markdown",
   "id": "de5eb1bd",
   "metadata": {
    "papermill": {
     "duration": 0.013332,
     "end_time": "2022-08-05T05:51:07.129253",
     "exception": false,
     "start_time": "2022-08-05T05:51:07.115921",
     "status": "completed"
    },
    "tags": []
   },
   "source": [
    "<a id=\"1\"></a> <br>\n",
    "# 5. Modeling"
   ]
  },
  {
   "cell_type": "markdown",
   "id": "c78d1f56",
   "metadata": {
    "papermill": {
     "duration": 0.01311,
     "end_time": "2022-08-05T05:51:07.155754",
     "exception": false,
     "start_time": "2022-08-05T05:51:07.142644",
     "status": "completed"
    },
    "tags": []
   },
   "source": [
    "**For the modeling part we will compare 8 known algorithms for Regression:**"
   ]
  },
  {
   "cell_type": "markdown",
   "id": "206b94fe",
   "metadata": {
    "papermill": {
     "duration": 0.013618,
     "end_time": "2022-08-05T05:51:07.182950",
     "exception": false,
     "start_time": "2022-08-05T05:51:07.169332",
     "status": "completed"
    },
    "tags": []
   },
   "source": [
    "1: Linear Regression\n",
    "\n",
    "2: Ridge\n",
    "\n",
    "3: Lasso\n",
    "\n",
    "4: SVR\n",
    "\n",
    "5: DecisionTreeRegressor\n",
    "\n",
    "6: RandomForestRegressor\n",
    "\n",
    "7: ExtraTreesRegressor\n",
    "\n",
    "8: GradientBoostingRegressor"
   ]
  },
  {
   "cell_type": "code",
   "execution_count": 23,
   "id": "9c8d90d4",
   "metadata": {
    "execution": {
     "iopub.execute_input": "2022-08-05T05:51:07.211835Z",
     "iopub.status.busy": "2022-08-05T05:51:07.211339Z",
     "iopub.status.idle": "2022-08-05T05:51:07.399778Z",
     "shell.execute_reply": "2022-08-05T05:51:07.398954Z"
    },
    "papermill": {
     "duration": 0.205242,
     "end_time": "2022-08-05T05:51:07.401966",
     "exception": false,
     "start_time": "2022-08-05T05:51:07.196724",
     "status": "completed"
    },
    "tags": []
   },
   "outputs": [],
   "source": [
    "from sklearn.linear_model import LinearRegression\n",
    "from sklearn.linear_model import Ridge\n",
    "from sklearn.linear_model import Lasso\n",
    "from sklearn.svm import SVR\n",
    "from sklearn.tree import DecisionTreeRegressor\n",
    "from sklearn.ensemble import RandomForestRegressor\n",
    "from sklearn.ensemble import ExtraTreesRegressor\n",
    "from sklearn.ensemble import GradientBoostingRegressor"
   ]
  },
  {
   "cell_type": "code",
   "execution_count": 24,
   "id": "84fa543f",
   "metadata": {
    "execution": {
     "iopub.execute_input": "2022-08-05T05:51:07.431905Z",
     "iopub.status.busy": "2022-08-05T05:51:07.431391Z",
     "iopub.status.idle": "2022-08-05T05:51:07.436220Z",
     "shell.execute_reply": "2022-08-05T05:51:07.435719Z"
    },
    "papermill": {
     "duration": 0.021748,
     "end_time": "2022-08-05T05:51:07.437840",
     "exception": false,
     "start_time": "2022-08-05T05:51:07.416092",
     "status": "completed"
    },
    "tags": []
   },
   "outputs": [],
   "source": [
    "# Define classifiers:\n",
    "from sklearn.model_selection import KFold\n",
    "kf = KFold(n_splits=3, shuffle=True, random_state=42)\n",
    "Classifiers = []\n",
    "Classifiers.append(LinearRegression())\n",
    "Classifiers.append(Ridge())\n",
    "Classifiers.append(Lasso())\n",
    "Classifiers.append(SVR())\n",
    "Classifiers.append(DecisionTreeRegressor())\n",
    "Classifiers.append(RandomForestRegressor())\n",
    "Classifiers.append(ExtraTreesRegressor())\n",
    "Classifiers.append(GradientBoostingRegressor())"
   ]
  },
  {
   "cell_type": "markdown",
   "id": "7b0403a6",
   "metadata": {
    "papermill": {
     "duration": 0.013893,
     "end_time": "2022-08-05T05:51:07.465845",
     "exception": false,
     "start_time": "2022-08-05T05:51:07.451952",
     "status": "completed"
    },
    "tags": []
   },
   "source": [
    "**Apply GridSearchCV:**"
   ]
  },
  {
   "cell_type": "code",
   "execution_count": 25,
   "id": "a8edb972",
   "metadata": {
    "execution": {
     "iopub.execute_input": "2022-08-05T05:51:07.495982Z",
     "iopub.status.busy": "2022-08-05T05:51:07.495471Z",
     "iopub.status.idle": "2022-08-05T05:51:07.506065Z",
     "shell.execute_reply": "2022-08-05T05:51:07.505470Z"
    },
    "papermill": {
     "duration": 0.02823,
     "end_time": "2022-08-05T05:51:07.507996",
     "exception": false,
     "start_time": "2022-08-05T05:51:07.479766",
     "status": "completed"
    },
    "tags": []
   },
   "outputs": [],
   "source": [
    "# define parameters for GridSearchCV:\n",
    "param_grid_LR = {'fit_intercept':[True,False],\n",
    "                'normalize':[True,False],\n",
    "                 'copy_X':[True,False]}\n",
    "\n",
    "param_grid_Ridge = {'alpha': [1,0.1,0.01,0.001,0.0001],\n",
    "                    \"fit_intercept\": [True, False],\n",
    "                    \"solver\": ['svd', 'cholesky', 'lsqr', 'sparse_cg', 'sag', 'saga']}\n",
    "\n",
    "param_grid_Lasso = {'alpha': [1,0.1,0.01,0.001,0.0001],\n",
    "                    \"fit_intercept\": [True, False]}\n",
    "\n",
    "param_grid_SVR = {'kernel':['linear', 'poly', 'rbf', 'sigmoid'],\n",
    "                   'C' : np.logspace(-3,3,7),\n",
    "                   'gamma' : ['auto','scale']}\n",
    "\n",
    "param_grid_DT = {\"splitter\":[\"best\",\"random\"],\n",
    "                 \"max_depth\" : [1,3,5,7,9,11,12],\n",
    "                 \"min_samples_leaf\":[1,2,3,4,5,6,7,8,9,10],\n",
    "                 \"min_weight_fraction_leaf\":[0.1,0.2,0.3,0.4,0.5,0.6,0.7,0.8,0.9],\n",
    "                 \"max_features\":[\"auto\",\"log2\",\"sqrt\",None],\n",
    "                 \"max_leaf_nodes\":[None,10,20,30,40,50,60,70,80,90]}\n",
    "\n",
    "param_grid_RF = {'n_estimators': [100,200,300],\n",
    "                 'max_features': ['auto', 'sqrt', 'log2'],\n",
    "                 'max_depth' : np.arange(3,15)}\n",
    "\n",
    "param_grid_ET = {'n_estimators': [100,200,300],\n",
    "                 'max_features': ['auto', 'sqrt', 'log2'],\n",
    "                 'max_depth' : np.arange(3,15)}\n",
    "\n",
    "param_grid_GB = {'learning_rate': [0.01,0.02,0.03,0.04],\n",
    "                  'subsample' : [0.9, 0.5, 0.2, 0.1],\n",
    "                  'n_estimators' : [100,200,300],\n",
    "                  'max_depth' : np.arange(5,15)}"
   ]
  },
  {
   "cell_type": "code",
   "execution_count": 26,
   "id": "e5563c9b",
   "metadata": {
    "execution": {
     "iopub.execute_input": "2022-08-05T05:51:07.537853Z",
     "iopub.status.busy": "2022-08-05T05:51:07.537472Z",
     "iopub.status.idle": "2022-08-05T05:51:07.541351Z",
     "shell.execute_reply": "2022-08-05T05:51:07.540509Z"
    },
    "papermill": {
     "duration": 0.020618,
     "end_time": "2022-08-05T05:51:07.543046",
     "exception": false,
     "start_time": "2022-08-05T05:51:07.522428",
     "status": "completed"
    },
    "tags": []
   },
   "outputs": [],
   "source": [
    "from sklearn.model_selection import GridSearchCV"
   ]
  },
  {
   "cell_type": "code",
   "execution_count": 27,
   "id": "27cc6d52",
   "metadata": {
    "execution": {
     "iopub.execute_input": "2022-08-05T05:51:07.572868Z",
     "iopub.status.busy": "2022-08-05T05:51:07.572327Z",
     "iopub.status.idle": "2022-08-05T05:51:08.711221Z",
     "shell.execute_reply": "2022-08-05T05:51:08.710197Z"
    },
    "papermill": {
     "duration": 1.156269,
     "end_time": "2022-08-05T05:51:08.713781",
     "exception": false,
     "start_time": "2022-08-05T05:51:07.557512",
     "status": "completed"
    },
    "tags": []
   },
   "outputs": [
    {
     "name": "stdout",
     "output_type": "stream",
     "text": [
      "{'copy_X': True, 'fit_intercept': True, 'normalize': True}\n"
     ]
    }
   ],
   "source": [
    "# GridSearchCV for Linear Regression:\n",
    "grid_LR = GridSearchCV(Classifiers[0],param_grid_LR, cv=kf, n_jobs=-1 )\n",
    "grid_LR = grid_LR.fit(X_train_scaled,y_train)\n",
    "print(grid_LR.best_params_)"
   ]
  },
  {
   "cell_type": "code",
   "execution_count": 28,
   "id": "8e476fb0",
   "metadata": {
    "execution": {
     "iopub.execute_input": "2022-08-05T05:51:08.761374Z",
     "iopub.status.busy": "2022-08-05T05:51:08.761041Z",
     "iopub.status.idle": "2022-08-05T05:51:09.094200Z",
     "shell.execute_reply": "2022-08-05T05:51:09.093497Z"
    },
    "papermill": {
     "duration": 0.362513,
     "end_time": "2022-08-05T05:51:09.095906",
     "exception": false,
     "start_time": "2022-08-05T05:51:08.733393",
     "status": "completed"
    },
    "tags": []
   },
   "outputs": [
    {
     "name": "stdout",
     "output_type": "stream",
     "text": [
      "{'alpha': 0.001, 'fit_intercept': False, 'solver': 'sag'}\n"
     ]
    }
   ],
   "source": [
    "# GridSearchCV for Ridge:\n",
    "grid_Ridge = GridSearchCV(Classifiers[1],param_grid_Ridge, cv=kf, n_jobs=-1 )\n",
    "grid_Ridge = grid_Ridge.fit(X_train_scaled,y_train)\n",
    "print(grid_Ridge.best_params_)"
   ]
  },
  {
   "cell_type": "code",
   "execution_count": 29,
   "id": "ddbbba00",
   "metadata": {
    "execution": {
     "iopub.execute_input": "2022-08-05T05:51:09.125968Z",
     "iopub.status.busy": "2022-08-05T05:51:09.125535Z",
     "iopub.status.idle": "2022-08-05T05:51:09.211160Z",
     "shell.execute_reply": "2022-08-05T05:51:09.210401Z"
    },
    "papermill": {
     "duration": 0.103964,
     "end_time": "2022-08-05T05:51:09.214296",
     "exception": false,
     "start_time": "2022-08-05T05:51:09.110332",
     "status": "completed"
    },
    "tags": []
   },
   "outputs": [
    {
     "name": "stdout",
     "output_type": "stream",
     "text": [
      "{'alpha': 0.001, 'fit_intercept': False}\n"
     ]
    }
   ],
   "source": [
    "# GridSearchCV for Lasso:\n",
    "grid_Lasso = GridSearchCV(Classifiers[2],param_grid_Lasso, cv=kf, n_jobs=-1 )\n",
    "grid_Lasso = grid_Lasso.fit(X_train_scaled,y_train)\n",
    "print(grid_Lasso.best_params_)"
   ]
  },
  {
   "cell_type": "code",
   "execution_count": 30,
   "id": "30fc8cf8",
   "metadata": {
    "execution": {
     "iopub.execute_input": "2022-08-05T05:51:09.254866Z",
     "iopub.status.busy": "2022-08-05T05:51:09.254078Z",
     "iopub.status.idle": "2022-08-05T05:51:39.340484Z",
     "shell.execute_reply": "2022-08-05T05:51:39.339596Z"
    },
    "papermill": {
     "duration": 30.119497,
     "end_time": "2022-08-05T05:51:39.353100",
     "exception": false,
     "start_time": "2022-08-05T05:51:09.233603",
     "status": "completed"
    },
    "tags": []
   },
   "outputs": [
    {
     "name": "stdout",
     "output_type": "stream",
     "text": [
      "{'C': 10.0, 'gamma': 'scale', 'kernel': 'poly'}\n"
     ]
    }
   ],
   "source": [
    "# GridSearchCV for SVR:\n",
    "grid_SVR = GridSearchCV(Classifiers[3],param_grid_SVR, cv=kf, n_jobs=-1 )\n",
    "grid_SVR = grid_SVR.fit(X_train_scaled,y_train)\n",
    "print(grid_SVR.best_params_)"
   ]
  },
  {
   "cell_type": "code",
   "execution_count": 31,
   "id": "509b58c8",
   "metadata": {
    "execution": {
     "iopub.execute_input": "2022-08-05T05:51:39.383009Z",
     "iopub.status.busy": "2022-08-05T05:51:39.382317Z",
     "iopub.status.idle": "2022-08-05T05:53:00.540043Z",
     "shell.execute_reply": "2022-08-05T05:53:00.539149Z"
    },
    "papermill": {
     "duration": 81.189595,
     "end_time": "2022-08-05T05:53:00.556562",
     "exception": false,
     "start_time": "2022-08-05T05:51:39.366967",
     "status": "completed"
    },
    "tags": []
   },
   "outputs": [
    {
     "name": "stdout",
     "output_type": "stream",
     "text": [
      "{'max_depth': 5, 'max_features': 'auto', 'max_leaf_nodes': None, 'min_samples_leaf': 1, 'min_weight_fraction_leaf': 0.1, 'splitter': 'best'}\n"
     ]
    }
   ],
   "source": [
    "# GridSearchCV for DecisionTreeRegressor:\n",
    "grid_DT = GridSearchCV(Classifiers[4],param_grid_DT, cv=kf, n_jobs=-1 )\n",
    "grid_DT = grid_DT.fit(X_train_scaled,y_train)\n",
    "print(grid_DT.best_params_)"
   ]
  },
  {
   "cell_type": "code",
   "execution_count": 32,
   "id": "df650e36",
   "metadata": {
    "execution": {
     "iopub.execute_input": "2022-08-05T05:53:00.586867Z",
     "iopub.status.busy": "2022-08-05T05:53:00.586285Z",
     "iopub.status.idle": "2022-08-05T05:53:35.354231Z",
     "shell.execute_reply": "2022-08-05T05:53:35.353360Z"
    },
    "papermill": {
     "duration": 34.798615,
     "end_time": "2022-08-05T05:53:35.369567",
     "exception": false,
     "start_time": "2022-08-05T05:53:00.570952",
     "status": "completed"
    },
    "tags": []
   },
   "outputs": [
    {
     "name": "stdout",
     "output_type": "stream",
     "text": [
      "{'max_depth': 4, 'max_features': 'auto', 'n_estimators': 300}\n"
     ]
    }
   ],
   "source": [
    "# GridSearchCV for RandomForestRegressor:\n",
    "grid_RF = GridSearchCV(Classifiers[5],param_grid_RF, cv=kf, n_jobs=-1 )\n",
    "grid_RF = grid_RF.fit(X_train_scaled,y_train)\n",
    "print(grid_RF.best_params_)"
   ]
  },
  {
   "cell_type": "code",
   "execution_count": 33,
   "id": "9cf5a6bb",
   "metadata": {
    "execution": {
     "iopub.execute_input": "2022-08-05T05:53:35.399719Z",
     "iopub.status.busy": "2022-08-05T05:53:35.399092Z",
     "iopub.status.idle": "2022-08-05T05:54:01.669743Z",
     "shell.execute_reply": "2022-08-05T05:54:01.668665Z"
    },
    "papermill": {
     "duration": 26.289183,
     "end_time": "2022-08-05T05:54:01.672708",
     "exception": false,
     "start_time": "2022-08-05T05:53:35.383525",
     "status": "completed"
    },
    "tags": []
   },
   "outputs": [
    {
     "name": "stdout",
     "output_type": "stream",
     "text": [
      "{'max_depth': 6, 'max_features': 'auto', 'n_estimators': 300}\n"
     ]
    }
   ],
   "source": [
    "# GridSearchCV for ExtraTreesRegressor:\n",
    "grid_ET = GridSearchCV(Classifiers[6],param_grid_ET, cv=kf, n_jobs=-1 )\n",
    "grid_ET = grid_ET.fit(X_train_scaled,y_train)\n",
    "print(grid_ET.best_params_)"
   ]
  },
  {
   "cell_type": "code",
   "execution_count": 34,
   "id": "2fa8c494",
   "metadata": {
    "execution": {
     "iopub.execute_input": "2022-08-05T05:54:01.703841Z",
     "iopub.status.busy": "2022-08-05T05:54:01.703545Z",
     "iopub.status.idle": "2022-08-05T05:55:31.414942Z",
     "shell.execute_reply": "2022-08-05T05:55:31.413985Z"
    },
    "papermill": {
     "duration": 89.742305,
     "end_time": "2022-08-05T05:55:31.430715",
     "exception": false,
     "start_time": "2022-08-05T05:54:01.688410",
     "status": "completed"
    },
    "tags": []
   },
   "outputs": [
    {
     "name": "stdout",
     "output_type": "stream",
     "text": [
      "{'learning_rate': 0.01, 'max_depth': 12, 'n_estimators': 300, 'subsample': 0.1}\n"
     ]
    }
   ],
   "source": [
    "# GridSearchCV for GradientBoostingRegressor:\n",
    "grid_GB = GridSearchCV(Classifiers[7],param_grid_GB, cv=kf, n_jobs=-1 )\n",
    "grid_GB = grid_GB.fit(X_train_scaled,y_train)\n",
    "print(grid_GB.best_params_)"
   ]
  },
  {
   "cell_type": "code",
   "execution_count": 35,
   "id": "754475a3",
   "metadata": {
    "execution": {
     "iopub.execute_input": "2022-08-05T05:55:31.461925Z",
     "iopub.status.busy": "2022-08-05T05:55:31.461383Z",
     "iopub.status.idle": "2022-08-05T05:55:31.464804Z",
     "shell.execute_reply": "2022-08-05T05:55:31.464126Z"
    },
    "papermill": {
     "duration": 0.020914,
     "end_time": "2022-08-05T05:55:31.466724",
     "exception": false,
     "start_time": "2022-08-05T05:55:31.445810",
     "status": "completed"
    },
    "tags": []
   },
   "outputs": [],
   "source": [
    "from sklearn.metrics import r2_score"
   ]
  },
  {
   "cell_type": "code",
   "execution_count": 36,
   "id": "b6f19c1d",
   "metadata": {
    "execution": {
     "iopub.execute_input": "2022-08-05T05:55:31.496802Z",
     "iopub.status.busy": "2022-08-05T05:55:31.496250Z",
     "iopub.status.idle": "2022-08-05T05:55:31.504987Z",
     "shell.execute_reply": "2022-08-05T05:55:31.504285Z"
    },
    "papermill": {
     "duration": 0.025698,
     "end_time": "2022-08-05T05:55:31.506776",
     "exception": false,
     "start_time": "2022-08-05T05:55:31.481078",
     "status": "completed"
    },
    "tags": []
   },
   "outputs": [
    {
     "data": {
      "text/plain": [
       "0.7782348031263425"
      ]
     },
     "execution_count": 36,
     "metadata": {},
     "output_type": "execute_result"
    }
   ],
   "source": [
    "# Create LR Model:\n",
    "model_LR = LinearRegression(copy_X = True, fit_intercept = True, normalize = True)\n",
    "model_LR = model_LR.fit(X_train_scaled, y_train)\n",
    "y_pred = model_LR.predict(X_test_scaled)\n",
    "acc_LR = r2_score(y_test, y_pred)\n",
    "r2_score(y_test, y_pred)"
   ]
  },
  {
   "cell_type": "code",
   "execution_count": 37,
   "id": "ac5e85ad",
   "metadata": {
    "execution": {
     "iopub.execute_input": "2022-08-05T05:55:31.547510Z",
     "iopub.status.busy": "2022-08-05T05:55:31.546889Z",
     "iopub.status.idle": "2022-08-05T05:55:31.566474Z",
     "shell.execute_reply": "2022-08-05T05:55:31.565633Z"
    },
    "papermill": {
     "duration": 0.041808,
     "end_time": "2022-08-05T05:55:31.568189",
     "exception": false,
     "start_time": "2022-08-05T05:55:31.526381",
     "status": "completed"
    },
    "tags": []
   },
   "outputs": [
    {
     "data": {
      "text/plain": [
       "0.7780335330864177"
      ]
     },
     "execution_count": 37,
     "metadata": {},
     "output_type": "execute_result"
    }
   ],
   "source": [
    "# Create Ridge Model:\n",
    "model_Ridge = Ridge(alpha = 1, fit_intercept = True, solver = 'lsqr')\n",
    "model_Ridge = model_Ridge.fit(X_train_scaled, y_train)\n",
    "y_pred = model_Ridge.predict(X_test_scaled)\n",
    "acc_Ridge = r2_score(y_test, y_pred)\n",
    "r2_score(y_test, y_pred)"
   ]
  },
  {
   "cell_type": "code",
   "execution_count": 38,
   "id": "ad8770c8",
   "metadata": {
    "execution": {
     "iopub.execute_input": "2022-08-05T05:55:31.626043Z",
     "iopub.status.busy": "2022-08-05T05:55:31.625721Z",
     "iopub.status.idle": "2022-08-05T05:55:31.652171Z",
     "shell.execute_reply": "2022-08-05T05:55:31.651269Z"
    },
    "papermill": {
     "duration": 0.061278,
     "end_time": "2022-08-05T05:55:31.656242",
     "exception": false,
     "start_time": "2022-08-05T05:55:31.594964",
     "status": "completed"
    },
    "tags": []
   },
   "outputs": [
    {
     "data": {
      "text/plain": [
       "0.7778458010463347"
      ]
     },
     "execution_count": 38,
     "metadata": {},
     "output_type": "execute_result"
    }
   ],
   "source": [
    "# Create Lasso Model:\n",
    "model_Lasso = Lasso(alpha = 0.001, fit_intercept = False)\n",
    "model_Lasso = model_Lasso.fit(X_train_scaled, y_train)\n",
    "y_pred = model_Lasso.predict(X_test_scaled)\n",
    "acc_Lasso = r2_score(y_test, y_pred)\n",
    "r2_score(y_test, y_pred)"
   ]
  },
  {
   "cell_type": "code",
   "execution_count": 39,
   "id": "7e70cb37",
   "metadata": {
    "execution": {
     "iopub.execute_input": "2022-08-05T05:55:31.708585Z",
     "iopub.status.busy": "2022-08-05T05:55:31.708253Z",
     "iopub.status.idle": "2022-08-05T05:55:31.967568Z",
     "shell.execute_reply": "2022-08-05T05:55:31.966934Z"
    },
    "papermill": {
     "duration": 0.281532,
     "end_time": "2022-08-05T05:55:31.969177",
     "exception": false,
     "start_time": "2022-08-05T05:55:31.687645",
     "status": "completed"
    },
    "tags": []
   },
   "outputs": [
    {
     "data": {
      "text/plain": [
       "0.8321128587862732"
      ]
     },
     "execution_count": 39,
     "metadata": {},
     "output_type": "execute_result"
    }
   ],
   "source": [
    "# Create SVR Model:\n",
    "model_SVR = SVR(C = 10, gamma = 'scale', kernel = 'poly')\n",
    "model_SVR = model_SVR.fit(X_train_scaled, y_train)\n",
    "y_pred = model_SVR.predict(X_test_scaled)\n",
    "acc_SVR = r2_score(y_test, y_pred)\n",
    "r2_score(y_test, y_pred)"
   ]
  },
  {
   "cell_type": "code",
   "execution_count": 40,
   "id": "471a2234",
   "metadata": {
    "execution": {
     "iopub.execute_input": "2022-08-05T05:55:32.000194Z",
     "iopub.status.busy": "2022-08-05T05:55:31.999317Z",
     "iopub.status.idle": "2022-08-05T05:55:32.009202Z",
     "shell.execute_reply": "2022-08-05T05:55:32.008019Z"
    },
    "papermill": {
     "duration": 0.027112,
     "end_time": "2022-08-05T05:55:32.010980",
     "exception": false,
     "start_time": "2022-08-05T05:55:31.983868",
     "status": "completed"
    },
    "tags": []
   },
   "outputs": [
    {
     "data": {
      "text/plain": [
       "0.791632210663503"
      ]
     },
     "execution_count": 40,
     "metadata": {},
     "output_type": "execute_result"
    }
   ],
   "source": [
    "# Create DecisionTreeRegressor Model:\n",
    "model_DT = DecisionTreeRegressor(max_depth = 5, max_features = 'auto', max_leaf_nodes = None,\n",
    "                                 min_samples_leaf = 1, min_weight_fraction_leaf = 0.1, splitter = 'best')\n",
    "model_DT = model_DT.fit(X_train_scaled, y_train)\n",
    "y_pred = model_DT.predict(X_test_scaled)\n",
    "acc_DT = r2_score(y_test, y_pred)\n",
    "r2_score(y_test, y_pred)"
   ]
  },
  {
   "cell_type": "code",
   "execution_count": 41,
   "id": "6336ca33",
   "metadata": {
    "execution": {
     "iopub.execute_input": "2022-08-05T05:55:32.042302Z",
     "iopub.status.busy": "2022-08-05T05:55:32.041788Z",
     "iopub.status.idle": "2022-08-05T05:55:32.359469Z",
     "shell.execute_reply": "2022-08-05T05:55:32.358687Z"
    },
    "papermill": {
     "duration": 0.33515,
     "end_time": "2022-08-05T05:55:32.361123",
     "exception": false,
     "start_time": "2022-08-05T05:55:32.025973",
     "status": "completed"
    },
    "tags": []
   },
   "outputs": [
    {
     "data": {
      "text/plain": [
       "0.8234436473722863"
      ]
     },
     "execution_count": 41,
     "metadata": {},
     "output_type": "execute_result"
    }
   ],
   "source": [
    "# Create RandomForestRegressor Model:\n",
    "model_RF = RandomForestRegressor(max_depth = 4, max_features = 'auto', n_estimators = 200)\n",
    "model_RF = model_RF.fit(X_train_scaled, y_train)\n",
    "y_pred = model_RF.predict(X_test_scaled)\n",
    "acc_RF = r2_score(y_test, y_pred)\n",
    "r2_score(y_test, y_pred)"
   ]
  },
  {
   "cell_type": "code",
   "execution_count": 42,
   "id": "ed144b07",
   "metadata": {
    "execution": {
     "iopub.execute_input": "2022-08-05T05:55:32.392804Z",
     "iopub.status.busy": "2022-08-05T05:55:32.391784Z",
     "iopub.status.idle": "2022-08-05T05:55:32.765240Z",
     "shell.execute_reply": "2022-08-05T05:55:32.764703Z"
    },
    "papermill": {
     "duration": 0.39084,
     "end_time": "2022-08-05T05:55:32.766733",
     "exception": false,
     "start_time": "2022-08-05T05:55:32.375893",
     "status": "completed"
    },
    "tags": []
   },
   "outputs": [
    {
     "data": {
      "text/plain": [
       "0.835216859493654"
      ]
     },
     "execution_count": 42,
     "metadata": {},
     "output_type": "execute_result"
    }
   ],
   "source": [
    "# Create ExtraTreesRegressor Model:\n",
    "model_ET = ExtraTreesRegressor(max_depth = 6, max_features = 'auto', n_estimators = 300)\n",
    "model_ET = model_ET.fit(X_train_scaled, y_train)\n",
    "y_pred = model_ET.predict(X_test_scaled)\n",
    "acc_ET = r2_score(y_test, y_pred)\n",
    "r2_score(y_test, y_pred)"
   ]
  },
  {
   "cell_type": "code",
   "execution_count": 43,
   "id": "9b07883c",
   "metadata": {
    "execution": {
     "iopub.execute_input": "2022-08-05T05:55:32.798051Z",
     "iopub.status.busy": "2022-08-05T05:55:32.797612Z",
     "iopub.status.idle": "2022-08-05T05:55:32.955110Z",
     "shell.execute_reply": "2022-08-05T05:55:32.954548Z"
    },
    "papermill": {
     "duration": 0.175771,
     "end_time": "2022-08-05T05:55:32.957403",
     "exception": false,
     "start_time": "2022-08-05T05:55:32.781632",
     "status": "completed"
    },
    "tags": []
   },
   "outputs": [
    {
     "data": {
      "text/plain": [
       "0.8269921102443939"
      ]
     },
     "execution_count": 43,
     "metadata": {},
     "output_type": "execute_result"
    }
   ],
   "source": [
    "# Create GradientBoostingRegressor Model:\n",
    "model_GB = GradientBoostingRegressor(learning_rate = 0.01, max_depth = 6, n_estimators = 300, subsample = 0.1)\n",
    "model_GB = model_GB.fit(X_train_scaled, y_train)\n",
    "y_pred = model_GB.predict(X_test_scaled)\n",
    "acc_GB = r2_score(y_test, y_pred)\n",
    "r2_score(y_test, y_pred)"
   ]
  },
  {
   "cell_type": "code",
   "execution_count": 44,
   "id": "1071255b",
   "metadata": {
    "execution": {
     "iopub.execute_input": "2022-08-05T05:55:32.989247Z",
     "iopub.status.busy": "2022-08-05T05:55:32.988372Z",
     "iopub.status.idle": "2022-08-05T05:55:32.993235Z",
     "shell.execute_reply": "2022-08-05T05:55:32.992696Z"
    },
    "papermill": {
     "duration": 0.022191,
     "end_time": "2022-08-05T05:55:32.994964",
     "exception": false,
     "start_time": "2022-08-05T05:55:32.972773",
     "status": "completed"
    },
    "tags": []
   },
   "outputs": [],
   "source": [
    "final_result = pd.Series({'Linear Regression':acc_LR,\n",
    "                         'Ridge':acc_Ridge,\n",
    "                         'Lasso':acc_Lasso,\n",
    "                         'SVR':acc_SVR,\n",
    "                         'DecisionTreeRegressor':acc_DT,\n",
    "                         'RandomForestRegressor':acc_RF,\n",
    "                         'ExtraTreesRegressor':acc_ET,\n",
    "                         'GradientBoostingRegressor':acc_GB})"
   ]
  },
  {
   "cell_type": "code",
   "execution_count": 45,
   "id": "4c0fb127",
   "metadata": {
    "execution": {
     "iopub.execute_input": "2022-08-05T05:55:33.025783Z",
     "iopub.status.busy": "2022-08-05T05:55:33.025332Z",
     "iopub.status.idle": "2022-08-05T05:55:33.030836Z",
     "shell.execute_reply": "2022-08-05T05:55:33.029921Z"
    },
    "papermill": {
     "duration": 0.022812,
     "end_time": "2022-08-05T05:55:33.032651",
     "exception": false,
     "start_time": "2022-08-05T05:55:33.009839",
     "status": "completed"
    },
    "tags": []
   },
   "outputs": [],
   "source": [
    "final_result = pd.DataFrame(final_result,columns=['Accuracy']).sort_values(by = 'Accuracy', ascending=False)"
   ]
  },
  {
   "cell_type": "code",
   "execution_count": 46,
   "id": "8ed4b289",
   "metadata": {
    "execution": {
     "iopub.execute_input": "2022-08-05T05:55:33.064172Z",
     "iopub.status.busy": "2022-08-05T05:55:33.063731Z",
     "iopub.status.idle": "2022-08-05T05:55:33.071002Z",
     "shell.execute_reply": "2022-08-05T05:55:33.070381Z"
    },
    "papermill": {
     "duration": 0.024825,
     "end_time": "2022-08-05T05:55:33.072546",
     "exception": false,
     "start_time": "2022-08-05T05:55:33.047721",
     "status": "completed"
    },
    "tags": []
   },
   "outputs": [
    {
     "data": {
      "text/html": [
       "<div>\n",
       "<style scoped>\n",
       "    .dataframe tbody tr th:only-of-type {\n",
       "        vertical-align: middle;\n",
       "    }\n",
       "\n",
       "    .dataframe tbody tr th {\n",
       "        vertical-align: top;\n",
       "    }\n",
       "\n",
       "    .dataframe thead th {\n",
       "        text-align: right;\n",
       "    }\n",
       "</style>\n",
       "<table border=\"1\" class=\"dataframe\">\n",
       "  <thead>\n",
       "    <tr style=\"text-align: right;\">\n",
       "      <th></th>\n",
       "      <th>Accuracy</th>\n",
       "    </tr>\n",
       "  </thead>\n",
       "  <tbody>\n",
       "    <tr>\n",
       "      <th>ExtraTreesRegressor</th>\n",
       "      <td>0.835217</td>\n",
       "    </tr>\n",
       "    <tr>\n",
       "      <th>SVR</th>\n",
       "      <td>0.832113</td>\n",
       "    </tr>\n",
       "    <tr>\n",
       "      <th>GradientBoostingRegressor</th>\n",
       "      <td>0.826992</td>\n",
       "    </tr>\n",
       "    <tr>\n",
       "      <th>RandomForestRegressor</th>\n",
       "      <td>0.823444</td>\n",
       "    </tr>\n",
       "    <tr>\n",
       "      <th>DecisionTreeRegressor</th>\n",
       "      <td>0.791632</td>\n",
       "    </tr>\n",
       "    <tr>\n",
       "      <th>Linear Regression</th>\n",
       "      <td>0.778235</td>\n",
       "    </tr>\n",
       "    <tr>\n",
       "      <th>Ridge</th>\n",
       "      <td>0.778034</td>\n",
       "    </tr>\n",
       "    <tr>\n",
       "      <th>Lasso</th>\n",
       "      <td>0.777846</td>\n",
       "    </tr>\n",
       "  </tbody>\n",
       "</table>\n",
       "</div>"
      ],
      "text/plain": [
       "                           Accuracy\n",
       "ExtraTreesRegressor        0.835217\n",
       "SVR                        0.832113\n",
       "GradientBoostingRegressor  0.826992\n",
       "RandomForestRegressor      0.823444\n",
       "DecisionTreeRegressor      0.791632\n",
       "Linear Regression          0.778235\n",
       "Ridge                      0.778034\n",
       "Lasso                      0.777846"
      ]
     },
     "execution_count": 46,
     "metadata": {},
     "output_type": "execute_result"
    }
   ],
   "source": [
    "final_result"
   ]
  },
  {
   "cell_type": "markdown",
   "id": "9e221ec3",
   "metadata": {
    "papermill": {
     "duration": 0.014646,
     "end_time": "2022-08-05T05:55:33.102141",
     "exception": false,
     "start_time": "2022-08-05T05:55:33.087495",
     "status": "completed"
    },
    "tags": []
   },
   "source": [
    "**AS We can see ExtraTreesRegressor has the best performance in comparison with other algorithms.**"
   ]
  }
 ],
 "metadata": {
  "kernelspec": {
   "display_name": "Python 3",
   "language": "python",
   "name": "python3"
  },
  "language_info": {
   "codemirror_mode": {
    "name": "ipython",
    "version": 3
   },
   "file_extension": ".py",
   "mimetype": "text/x-python",
   "name": "python",
   "nbconvert_exporter": "python",
   "pygments_lexer": "ipython3",
   "version": "3.7.12"
  },
  "papermill": {
   "default_parameters": {},
   "duration": 279.861665,
   "end_time": "2022-08-05T05:55:35.736495",
   "environment_variables": {},
   "exception": null,
   "input_path": "__notebook__.ipynb",
   "output_path": "__notebook__.ipynb",
   "parameters": {},
   "start_time": "2022-08-05T05:50:55.874830",
   "version": "2.3.4"
  }
 },
 "nbformat": 4,
 "nbformat_minor": 5
}
